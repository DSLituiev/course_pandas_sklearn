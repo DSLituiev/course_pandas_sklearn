{
 "cells": [
  {
   "cell_type": "code",
   "execution_count": 61,
   "metadata": {
    "collapsed": false
   },
   "outputs": [
    {
     "name": "stdout",
     "output_type": "stream",
     "text": [
      "Populating the interactive namespace from numpy and matplotlib\n"
     ]
    },
    {
     "name": "stderr",
     "output_type": "stream",
     "text": [
      "WARNING: pylab import has clobbered these variables: ['plt']\n",
      "`%matplotlib` prevents importing * from pylab and numpy\n"
     ]
    }
   ],
   "source": [
    "from __future__ import print_function, division\n",
    "import pandas as pd\n",
    "import pylab as plt\n",
    "import sqlite3\n",
    "%pylab inline"
   ]
  },
  {
   "cell_type": "code",
   "execution_count": 48,
   "metadata": {
    "collapsed": false
   },
   "outputs": [
    {
     "name": "stdout",
     "output_type": "stream",
     "text": [
      "\u001b[31mtrain.csv\u001b[m\u001b[m*     train.csv.zip\r\n"
     ]
    }
   ],
   "source": [
    "%ls ../data/bimbo/"
   ]
  },
  {
   "cell_type": "code",
   "execution_count": 86,
   "metadata": {
    "collapsed": false
   },
   "outputs": [],
   "source": [
    "indir = \"../data/bimbo/\"\n",
    "conn = sqlite3.connect(indir + \"bimbo.db\")\n",
    "dbfile = indir + \"bimbo.db\"\n",
    "# from sqlalchemy import create_engine\n",
    "\n",
    "# conn = create_engine(\n",
    "#    'sqlite:///' + dbfile,\n",
    "# )"
   ]
  },
  {
   "cell_type": "code",
   "execution_count": 80,
   "metadata": {
    "collapsed": false
   },
   "outputs": [
    {
     "data": {
      "text/plain": [
       "Engine(sqlite:///../data/bimbo/bimbo.db)"
      ]
     },
     "execution_count": 80,
     "metadata": {},
     "output_type": "execute_result"
    }
   ],
   "source": []
  },
  {
   "cell_type": "code",
   "execution_count": 123,
   "metadata": {
    "collapsed": false
   },
   "outputs": [
    {
     "data": {
      "text/plain": [
       "Int64Index([1146, 1250, 2233, 2604, 33794], dtype='int64', name='Producto_ID')"
      ]
     },
     "execution_count": 123,
     "metadata": {},
     "output_type": "execute_result"
    }
   ],
   "source": [
    "df = pd.read_csv(indir + \"train.csv\", index_col=[0,1], nrows=10000)\n",
    "df.groupby(\"Producto_ID\").agg(\"sum\")[\"Venta_uni_hoy\"].sort_values()[-5:].index"
   ]
  },
  {
   "cell_type": "code",
   "execution_count": 81,
   "metadata": {
    "collapsed": true
   },
   "outputs": [],
   "source": [
    "pd.read_sql?"
   ]
  },
  {
   "cell_type": "code",
   "execution_count": 92,
   "metadata": {
    "collapsed": false
   },
   "outputs": [
    {
     "name": "stdout",
     "output_type": "stream",
     "text": [
      "(35, 11)\n"
     ]
    },
    {
     "data": {
      "text/plain": [
       "Index(['Semana', 'Agencia_ID', 'Canal_ID', 'Ruta_SAK', 'Cliente_ID',\n",
       "       'Producto_ID', 'Venta_uni_hoy', 'Venta_hoy', 'Dev_uni_proxima',\n",
       "       'Dev_proxima', 'Demanda_uni_equil'],\n",
       "      dtype='object')"
      ]
     },
     "execution_count": 92,
     "metadata": {},
     "output_type": "execute_result"
    }
   ],
   "source": [
    "df = pd.read_sql_query(\n",
    "    \"\"\"SELECT * FROM bimbo_train \n",
    "    WHERE Producto_ID=214 \n",
    "    AND Cliente_ID IN (4690490, 1697938, 4499368, 2373899, 1361323)\n",
    "    ;\"\"\"\n",
    "                       , conn, chunksize=None)\n",
    "# df = pd.read_csv(indir + \"train.csv\", index_col=[0,1], nrows=1000)\n",
    "print(df.shape)\n",
    "df.columns"
   ]
  },
  {
   "cell_type": "code",
   "execution_count": 124,
   "metadata": {
    "collapsed": false
   },
   "outputs": [
    {
     "name": "stdout",
     "output_type": "stream",
     "text": [
      "(35, 3)\n"
     ]
    },
    {
     "data": {
      "text/plain": [
       "Index(['Semana', 'Producto_ID', 'SUM(Venta_uni_hoy)'], dtype='object')"
      ]
     },
     "execution_count": 124,
     "metadata": {},
     "output_type": "execute_result"
    }
   ],
   "source": [
    "df = pd.read_sql_query(\n",
    "    \"\"\"SELECT Semana, Producto_ID, SUM(Venta_uni_hoy) FROM bimbo_train \n",
    "    WHERE Producto_ID IN (1146, 1250, 2233, 2604, 33794)\n",
    "    GROUP BY Semana, Producto_ID\n",
    "    ;\"\"\"\n",
    "                       , conn, chunksize=None)\n",
    "# df = pd.read_csv(indir + \"train.csv\", index_col=[0,1], nrows=1000)\n",
    "print(df.shape)\n",
    "df.columns"
   ]
  },
  {
   "cell_type": "code",
   "execution_count": 125,
   "metadata": {
    "collapsed": false
   },
   "outputs": [],
   "source": [
    "dfpiv = df.pivot_table(values = 'SUM(Venta_uni_hoy)', index=\"Semana\", columns=\"Producto_ID\")"
   ]
  },
  {
   "cell_type": "code",
   "execution_count": 126,
   "metadata": {
    "collapsed": false
   },
   "outputs": [
    {
     "data": {
      "text/plain": [
       "<matplotlib.axes._subplots.AxesSubplot at 0x1087aa828>"
      ]
     },
     "execution_count": 126,
     "metadata": {},
     "output_type": "execute_result"
    },
    {
     "data": {
      "image/png": "[encoded data removed]",
      "text/plain": [
       "<matplotlib.figure.Figure at 0x10873f828>"
      ]
     },
     "metadata": {},
     "output_type": "display_data"
    }
   ],
   "source": [
    "# (dfpiv/dfpiv.mean()).plot()\n",
    "dfpiv.plot()"
   ]
  },
  {
   "cell_type": "code",
   "execution_count": null,
   "metadata": {
    "collapsed": false
   },
   "outputs": [],
   "source": [
    "df = pd.read_sql_query(\n",
    "    \"\"\"SELECT SUM(Venta_uni_hoy) FROM bimbo_train \n",
    "    WHERE Producto_ID=214 \n",
    "    AND Cliente_ID IN (4690490, 1697938, 4499368, 2373899, 1361323)\n",
    "    GROUP BY Semana\n",
    "    ;\"\"\"\n",
    "                       , conn, chunksize=None)\n",
    "# df = pd.read_csv(indir + \"train.csv\", index_col=[0,1], nrows=1000)\n",
    "print(df.shape)\n",
    "df.columns"
   ]
  },
  {
   "cell_type": "code",
   "execution_count": 91,
   "metadata": {
    "collapsed": false
   },
   "outputs": [
    {
     "data": {
      "text/plain": [
       "[4690490, 1697938, 4499368, 2373899, 1361323]"
      ]
     },
     "execution_count": 91,
     "metadata": {},
     "output_type": "execute_result"
    }
   ],
   "source": [
    "df.groupby(\"Cliente_ID\",).agg(sum)[\"Venta_hoy\"].sort_values()[-5:].index.tolist()"
   ]
  },
  {
   "cell_type": "code",
   "execution_count": 95,
   "metadata": {
    "collapsed": false
   },
   "outputs": [
    {
     "data": {
      "text/plain": [
       "<matplotlib.axes._subplots.AxesSubplot at 0x1166d4cf8>"
      ]
     },
     "execution_count": 95,
     "metadata": {},
     "output_type": "execute_result"
    },
    {
     "data": {
      "image/png": "[encoded data removed]",
      "text/plain": [
       "<matplotlib.figure.Figure at 0x1167069e8>"
      ]
     },
     "metadata": {},
     "output_type": "display_data"
    }
   ],
   "source": [
    "df.groupby(\"Semana\",).agg(sum)[\"Venta_hoy\"].plot()"
   ]
  },
  {
   "cell_type": "code",
   "execution_count": 94,
   "metadata": {
    "collapsed": false
   },
   "outputs": [
    {
     "data": {
      "text/html": [
       "<div>\n",
       "<table border=\"1\" class=\"dataframe\">\n",
       "  <thead>\n",
       "    <tr style=\"text-align: right;\">\n",
       "      <th></th>\n",
       "      <th>Semana</th>\n",
       "      <th>Agencia_ID</th>\n",
       "      <th>Canal_ID</th>\n",
       "      <th>Ruta_SAK</th>\n",
       "      <th>Cliente_ID</th>\n",
       "      <th>Producto_ID</th>\n",
       "    </tr>\n",
       "  </thead>\n",
       "  <tbody>\n",
       "    <tr>\n",
       "      <th>0</th>\n",
       "      <td>3</td>\n",
       "      <td>1110</td>\n",
       "      <td>7</td>\n",
       "      <td>3301</td>\n",
       "      <td>4499368</td>\n",
       "      <td>214</td>\n",
       "    </tr>\n",
       "    <tr>\n",
       "      <th>1</th>\n",
       "      <td>3</td>\n",
       "      <td>1139</td>\n",
       "      <td>7</td>\n",
       "      <td>3313</td>\n",
       "      <td>1361323</td>\n",
       "      <td>214</td>\n",
       "    </tr>\n",
       "    <tr>\n",
       "      <th>2</th>\n",
       "      <td>3</td>\n",
       "      <td>1143</td>\n",
       "      <td>8</td>\n",
       "      <td>3425</td>\n",
       "      <td>2373899</td>\n",
       "      <td>214</td>\n",
       "    </tr>\n",
       "    <tr>\n",
       "      <th>3</th>\n",
       "      <td>3</td>\n",
       "      <td>1934</td>\n",
       "      <td>11</td>\n",
       "      <td>3924</td>\n",
       "      <td>4690490</td>\n",
       "      <td>214</td>\n",
       "    </tr>\n",
       "    <tr>\n",
       "      <th>4</th>\n",
       "      <td>3</td>\n",
       "      <td>3223</td>\n",
       "      <td>7</td>\n",
       "      <td>3344</td>\n",
       "      <td>1697938</td>\n",
       "      <td>214</td>\n",
       "    </tr>\n",
       "    <tr>\n",
       "      <th>5</th>\n",
       "      <td>4</td>\n",
       "      <td>1110</td>\n",
       "      <td>7</td>\n",
       "      <td>3301</td>\n",
       "      <td>4499368</td>\n",
       "      <td>214</td>\n",
       "    </tr>\n",
       "    <tr>\n",
       "      <th>6</th>\n",
       "      <td>4</td>\n",
       "      <td>1139</td>\n",
       "      <td>7</td>\n",
       "      <td>3313</td>\n",
       "      <td>1361323</td>\n",
       "      <td>214</td>\n",
       "    </tr>\n",
       "    <tr>\n",
       "      <th>7</th>\n",
       "      <td>4</td>\n",
       "      <td>1143</td>\n",
       "      <td>8</td>\n",
       "      <td>3425</td>\n",
       "      <td>2373899</td>\n",
       "      <td>214</td>\n",
       "    </tr>\n",
       "    <tr>\n",
       "      <th>8</th>\n",
       "      <td>4</td>\n",
       "      <td>1934</td>\n",
       "      <td>11</td>\n",
       "      <td>3924</td>\n",
       "      <td>4690490</td>\n",
       "      <td>214</td>\n",
       "    </tr>\n",
       "    <tr>\n",
       "      <th>9</th>\n",
       "      <td>4</td>\n",
       "      <td>3223</td>\n",
       "      <td>7</td>\n",
       "      <td>3344</td>\n",
       "      <td>1697938</td>\n",
       "      <td>214</td>\n",
       "    </tr>\n",
       "    <tr>\n",
       "      <th>10</th>\n",
       "      <td>5</td>\n",
       "      <td>1110</td>\n",
       "      <td>7</td>\n",
       "      <td>3301</td>\n",
       "      <td>4499368</td>\n",
       "      <td>214</td>\n",
       "    </tr>\n",
       "    <tr>\n",
       "      <th>11</th>\n",
       "      <td>5</td>\n",
       "      <td>1139</td>\n",
       "      <td>7</td>\n",
       "      <td>3313</td>\n",
       "      <td>1361323</td>\n",
       "      <td>214</td>\n",
       "    </tr>\n",
       "    <tr>\n",
       "      <th>12</th>\n",
       "      <td>5</td>\n",
       "      <td>1143</td>\n",
       "      <td>8</td>\n",
       "      <td>3425</td>\n",
       "      <td>2373899</td>\n",
       "      <td>214</td>\n",
       "    </tr>\n",
       "    <tr>\n",
       "      <th>13</th>\n",
       "      <td>5</td>\n",
       "      <td>1934</td>\n",
       "      <td>11</td>\n",
       "      <td>3924</td>\n",
       "      <td>4690490</td>\n",
       "      <td>214</td>\n",
       "    </tr>\n",
       "    <tr>\n",
       "      <th>14</th>\n",
       "      <td>5</td>\n",
       "      <td>3223</td>\n",
       "      <td>7</td>\n",
       "      <td>3344</td>\n",
       "      <td>1697938</td>\n",
       "      <td>214</td>\n",
       "    </tr>\n",
       "    <tr>\n",
       "      <th>15</th>\n",
       "      <td>6</td>\n",
       "      <td>1110</td>\n",
       "      <td>7</td>\n",
       "      <td>3301</td>\n",
       "      <td>4499368</td>\n",
       "      <td>214</td>\n",
       "    </tr>\n",
       "    <tr>\n",
       "      <th>16</th>\n",
       "      <td>6</td>\n",
       "      <td>1139</td>\n",
       "      <td>7</td>\n",
       "      <td>3313</td>\n",
       "      <td>1361323</td>\n",
       "      <td>214</td>\n",
       "    </tr>\n",
       "    <tr>\n",
       "      <th>17</th>\n",
       "      <td>6</td>\n",
       "      <td>1143</td>\n",
       "      <td>8</td>\n",
       "      <td>3425</td>\n",
       "      <td>2373899</td>\n",
       "      <td>214</td>\n",
       "    </tr>\n",
       "    <tr>\n",
       "      <th>18</th>\n",
       "      <td>6</td>\n",
       "      <td>1934</td>\n",
       "      <td>11</td>\n",
       "      <td>3924</td>\n",
       "      <td>4690490</td>\n",
       "      <td>214</td>\n",
       "    </tr>\n",
       "    <tr>\n",
       "      <th>19</th>\n",
       "      <td>6</td>\n",
       "      <td>3223</td>\n",
       "      <td>7</td>\n",
       "      <td>3344</td>\n",
       "      <td>1697938</td>\n",
       "      <td>214</td>\n",
       "    </tr>\n",
       "    <tr>\n",
       "      <th>20</th>\n",
       "      <td>7</td>\n",
       "      <td>1110</td>\n",
       "      <td>7</td>\n",
       "      <td>3301</td>\n",
       "      <td>4499368</td>\n",
       "      <td>214</td>\n",
       "    </tr>\n",
       "    <tr>\n",
       "      <th>21</th>\n",
       "      <td>7</td>\n",
       "      <td>1139</td>\n",
       "      <td>7</td>\n",
       "      <td>3313</td>\n",
       "      <td>1361323</td>\n",
       "      <td>214</td>\n",
       "    </tr>\n",
       "    <tr>\n",
       "      <th>22</th>\n",
       "      <td>7</td>\n",
       "      <td>1143</td>\n",
       "      <td>8</td>\n",
       "      <td>3425</td>\n",
       "      <td>2373899</td>\n",
       "      <td>214</td>\n",
       "    </tr>\n",
       "    <tr>\n",
       "      <th>23</th>\n",
       "      <td>7</td>\n",
       "      <td>1934</td>\n",
       "      <td>11</td>\n",
       "      <td>3924</td>\n",
       "      <td>4690490</td>\n",
       "      <td>214</td>\n",
       "    </tr>\n",
       "    <tr>\n",
       "      <th>24</th>\n",
       "      <td>7</td>\n",
       "      <td>3223</td>\n",
       "      <td>7</td>\n",
       "      <td>3344</td>\n",
       "      <td>1697938</td>\n",
       "      <td>214</td>\n",
       "    </tr>\n",
       "    <tr>\n",
       "      <th>25</th>\n",
       "      <td>8</td>\n",
       "      <td>1110</td>\n",
       "      <td>7</td>\n",
       "      <td>3301</td>\n",
       "      <td>4499368</td>\n",
       "      <td>214</td>\n",
       "    </tr>\n",
       "    <tr>\n",
       "      <th>26</th>\n",
       "      <td>8</td>\n",
       "      <td>1139</td>\n",
       "      <td>7</td>\n",
       "      <td>3313</td>\n",
       "      <td>1361323</td>\n",
       "      <td>214</td>\n",
       "    </tr>\n",
       "    <tr>\n",
       "      <th>27</th>\n",
       "      <td>8</td>\n",
       "      <td>1143</td>\n",
       "      <td>8</td>\n",
       "      <td>3425</td>\n",
       "      <td>2373899</td>\n",
       "      <td>214</td>\n",
       "    </tr>\n",
       "    <tr>\n",
       "      <th>28</th>\n",
       "      <td>8</td>\n",
       "      <td>1934</td>\n",
       "      <td>11</td>\n",
       "      <td>3924</td>\n",
       "      <td>4690490</td>\n",
       "      <td>214</td>\n",
       "    </tr>\n",
       "    <tr>\n",
       "      <th>29</th>\n",
       "      <td>8</td>\n",
       "      <td>3223</td>\n",
       "      <td>7</td>\n",
       "      <td>3344</td>\n",
       "      <td>1697938</td>\n",
       "      <td>214</td>\n",
       "    </tr>\n",
       "    <tr>\n",
       "      <th>30</th>\n",
       "      <td>9</td>\n",
       "      <td>1110</td>\n",
       "      <td>7</td>\n",
       "      <td>3301</td>\n",
       "      <td>4499368</td>\n",
       "      <td>214</td>\n",
       "    </tr>\n",
       "    <tr>\n",
       "      <th>31</th>\n",
       "      <td>9</td>\n",
       "      <td>1139</td>\n",
       "      <td>7</td>\n",
       "      <td>3313</td>\n",
       "      <td>1361323</td>\n",
       "      <td>214</td>\n",
       "    </tr>\n",
       "    <tr>\n",
       "      <th>32</th>\n",
       "      <td>9</td>\n",
       "      <td>1143</td>\n",
       "      <td>8</td>\n",
       "      <td>3425</td>\n",
       "      <td>2373899</td>\n",
       "      <td>214</td>\n",
       "    </tr>\n",
       "    <tr>\n",
       "      <th>33</th>\n",
       "      <td>9</td>\n",
       "      <td>1934</td>\n",
       "      <td>11</td>\n",
       "      <td>3924</td>\n",
       "      <td>4690490</td>\n",
       "      <td>214</td>\n",
       "    </tr>\n",
       "    <tr>\n",
       "      <th>34</th>\n",
       "      <td>9</td>\n",
       "      <td>3223</td>\n",
       "      <td>7</td>\n",
       "      <td>3344</td>\n",
       "      <td>1697938</td>\n",
       "      <td>214</td>\n",
       "    </tr>\n",
       "  </tbody>\n",
       "</table>\n",
       "</div>"
      ],
      "text/plain": [
       "    Semana  Agencia_ID  Canal_ID  Ruta_SAK  Cliente_ID  Producto_ID\n",
       "0        3        1110         7      3301     4499368          214\n",
       "1        3        1139         7      3313     1361323          214\n",
       "2        3        1143         8      3425     2373899          214\n",
       "3        3        1934        11      3924     4690490          214\n",
       "4        3        3223         7      3344     1697938          214\n",
       "5        4        1110         7      3301     4499368          214\n",
       "6        4        1139         7      3313     1361323          214\n",
       "7        4        1143         8      3425     2373899          214\n",
       "8        4        1934        11      3924     4690490          214\n",
       "9        4        3223         7      3344     1697938          214\n",
       "10       5        1110         7      3301     4499368          214\n",
       "11       5        1139         7      3313     1361323          214\n",
       "12       5        1143         8      3425     2373899          214\n",
       "13       5        1934        11      3924     4690490          214\n",
       "14       5        3223         7      3344     1697938          214\n",
       "15       6        1110         7      3301     4499368          214\n",
       "16       6        1139         7      3313     1361323          214\n",
       "17       6        1143         8      3425     2373899          214\n",
       "18       6        1934        11      3924     4690490          214\n",
       "19       6        3223         7      3344     1697938          214\n",
       "20       7        1110         7      3301     4499368          214\n",
       "21       7        1139         7      3313     1361323          214\n",
       "22       7        1143         8      3425     2373899          214\n",
       "23       7        1934        11      3924     4690490          214\n",
       "24       7        3223         7      3344     1697938          214\n",
       "25       8        1110         7      3301     4499368          214\n",
       "26       8        1139         7      3313     1361323          214\n",
       "27       8        1143         8      3425     2373899          214\n",
       "28       8        1934        11      3924     4690490          214\n",
       "29       8        3223         7      3344     1697938          214\n",
       "30       9        1110         7      3301     4499368          214\n",
       "31       9        1139         7      3313     1361323          214\n",
       "32       9        1143         8      3425     2373899          214\n",
       "33       9        1934        11      3924     4690490          214\n",
       "34       9        3223         7      3344     1697938          214"
      ]
     },
     "execution_count": 94,
     "metadata": {},
     "output_type": "execute_result"
    }
   ],
   "source": [
    "feature_names = ['Semana', 'Agencia_ID', 'Canal_ID', 'Ruta_SAK', 'Cliente_ID',\n",
    "       'Producto_ID']\n",
    "df[feature_names]"
   ]
  },
  {
   "cell_type": "code",
   "execution_count": 47,
   "metadata": {
    "collapsed": false
   },
   "outputs": [],
   "source": [
    "# (dfint.T - dfint.loc[:,1]).T\n",
    "# dfint.mean()\n",
    "# dfint.var()"
   ]
  },
  {
   "cell_type": "code",
   "execution_count": 31,
   "metadata": {
    "collapsed": false
   },
   "outputs": [
    {
     "data": {
      "text/plain": [
       "(0, 600)"
      ]
     },
     "execution_count": 31,
     "metadata": {},
     "output_type": "execute_result"
    },
    {
     "data": {
      "image/png": "[encoded data removed]",
      "text/plain": [
       "<matplotlib.figure.Figure at 0x107bc5668>"
      ]
     },
     "metadata": {},
     "output_type": "display_data"
    }
   ],
   "source": [
    "plt.plot(dfampl.loc[2])\n",
    "# plt.yscale(\"log\")\n",
    "plt.ylim([0, 600])"
   ]
  }
 ],
 "metadata": {
  "kernelspec": {
   "display_name": "Python 3",
   "language": "python",
   "name": "python3"
  },
  "language_info": {
   "codemirror_mode": {
    "name": "ipython",
    "version": 3
   },
   "file_extension": ".py",
   "mimetype": "text/x-python",
   "name": "python",
   "nbconvert_exporter": "python",
   "pygments_lexer": "ipython3",
   "version": "3.5.1"
  }
 },
 "nbformat": 4,
 "nbformat_minor": 0
}
