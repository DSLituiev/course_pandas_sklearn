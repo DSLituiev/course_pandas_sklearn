{
 "cells": [
  {
   "cell_type": "code",
   "execution_count": 1,
   "metadata": {
    "collapsed": false
   },
   "outputs": [
    {
     "name": "stdout",
     "output_type": "stream",
     "text": [
      "Populating the interactive namespace from numpy and matplotlib\n"
     ]
    },
    {
     "name": "stderr",
     "output_type": "stream",
     "text": [
      "WARNING: pylab import has clobbered these variables: ['plt']\n",
      "`%matplotlib` prevents importing * from pylab and numpy\n"
     ]
    }
   ],
   "source": [
    "from __future__ import print_function\n",
    "import pandas as pd\n",
    "import numpy as np\n",
    "# import locale\n",
    "import glob\n",
    "import sys\n",
    "import os\n",
    "import requests\n",
    "import tarfile\n",
    "\n",
    "import pylab as plt\n",
    "%pylab inline"
   ]
  },
  {
   "cell_type": "markdown",
   "metadata": {
    "collapsed": false
   },
   "source": [
    "inspired by:\n",
    "* https://gist.github.com/zacstewart/5978000\n",
    "* https://github.com/RaRe-Technologies/gensim/blob/develop/docs/notebooks/doc2vec-IMDB.ipynb\n",
    "\n",
    "data description:\n",
    "* http://ai.stanford.edu/~amaas/data/sentiment/"
   ]
  },
  {
   "cell_type": "code",
   "execution_count": 3,
   "metadata": {
    "collapsed": false
   },
   "outputs": [],
   "source": [
    "from helper import collect_reviews"
   ]
  },
  {
   "cell_type": "code",
   "execution_count": 4,
   "metadata": {
    "collapsed": false
   },
   "outputs": [],
   "source": [
    "all_reviews_file = \"../data/all_reviews.tab\"\n",
    "\n",
    "if not os.path.isfile(all_reviews_file):\n",
    "    \"if no summary file found, collect reviews from separate files:\"\n",
    "    alldata = collect_reviews(datadirname = \"../data/\")\n",
    "    alldatadf = pd.DataFrame(alldata,\n",
    "                 columns = (\"dataset\", \"judgement\", \"internal_id\", \"stars\", \"review\" )\n",
    "                )\n",
    "    alldatadf.index.name = \"id\"\n",
    "    alldatadf.to_csv(all_reviews_file, sep=\"\\t\")\n",
    "    alldatadf[\"stars\"] = alldatadf[\"stars\"].astype(int)\n",
    "    alldatadf[\"internal_id\"] = alldatadf[\"internal_id\"].astype(int)\n",
    "else:\n",
    "    \"read summary file\"\n",
    "    alldatadf = pd.read_table(all_reviews_file, index_col=[0])"
   ]
  },
  {
   "cell_type": "code",
   "execution_count": 5,
   "metadata": {
    "collapsed": true
   },
   "outputs": [],
   "source": [
    "# !rm ../data/all_reviews.tab"
   ]
  },
  {
   "cell_type": "markdown",
   "metadata": {},
   "source": [
    "_OK, now we are ready to play with our table!_"
   ]
  },
  {
   "cell_type": "code",
   "execution_count": 6,
   "metadata": {
    "collapsed": false
   },
   "outputs": [
    {
     "data": {
      "text/html": [
       "<div>\n",
       "<table border=\"1\" class=\"dataframe\">\n",
       "  <thead>\n",
       "    <tr style=\"text-align: right;\">\n",
       "      <th></th>\n",
       "      <th>dataset</th>\n",
       "      <th>judgement</th>\n",
       "      <th>internal_id</th>\n",
       "      <th>stars</th>\n",
       "      <th>review</th>\n",
       "    </tr>\n",
       "    <tr>\n",
       "      <th>id</th>\n",
       "      <th></th>\n",
       "      <th></th>\n",
       "      <th></th>\n",
       "      <th></th>\n",
       "      <th></th>\n",
       "    </tr>\n",
       "  </thead>\n",
       "  <tbody>\n",
       "    <tr>\n",
       "      <th>0</th>\n",
       "      <td>train</td>\n",
       "      <td>pos</td>\n",
       "      <td>0</td>\n",
       "      <td>9</td>\n",
       "      <td>bromwell high is a cartoon comedy .  it ran at...</td>\n",
       "    </tr>\n",
       "    <tr>\n",
       "      <th>1</th>\n",
       "      <td>train</td>\n",
       "      <td>pos</td>\n",
       "      <td>10000</td>\n",
       "      <td>8</td>\n",
       "      <td>homelessness  ( or houselessness as george car...</td>\n",
       "    </tr>\n",
       "    <tr>\n",
       "      <th>2</th>\n",
       "      <td>train</td>\n",
       "      <td>pos</td>\n",
       "      <td>10001</td>\n",
       "      <td>10</td>\n",
       "      <td>brilliant over-acting by lesley ann warren .  ...</td>\n",
       "    </tr>\n",
       "    <tr>\n",
       "      <th>3</th>\n",
       "      <td>train</td>\n",
       "      <td>pos</td>\n",
       "      <td>10002</td>\n",
       "      <td>7</td>\n",
       "      <td>this is easily the most underrated film inn th...</td>\n",
       "    </tr>\n",
       "    <tr>\n",
       "      <th>4</th>\n",
       "      <td>train</td>\n",
       "      <td>pos</td>\n",
       "      <td>10003</td>\n",
       "      <td>8</td>\n",
       "      <td>this is not the typical mel brooks film .  it ...</td>\n",
       "    </tr>\n",
       "  </tbody>\n",
       "</table>\n",
       "</div>"
      ],
      "text/plain": [
       "   dataset judgement  internal_id  stars  \\\n",
       "id                                         \n",
       "0    train       pos            0      9   \n",
       "1    train       pos        10000      8   \n",
       "2    train       pos        10001     10   \n",
       "3    train       pos        10002      7   \n",
       "4    train       pos        10003      8   \n",
       "\n",
       "                                               review  \n",
       "id                                                     \n",
       "0   bromwell high is a cartoon comedy .  it ran at...  \n",
       "1   homelessness  ( or houselessness as george car...  \n",
       "2   brilliant over-acting by lesley ann warren .  ...  \n",
       "3   this is easily the most underrated film inn th...  \n",
       "4   this is not the typical mel brooks film .  it ...  "
      ]
     },
     "execution_count": 6,
     "metadata": {},
     "output_type": "execute_result"
    }
   ],
   "source": [
    "alldatadf[:5]"
   ]
  },
  {
   "cell_type": "markdown",
   "metadata": {},
   "source": [
    "# Explore pandas data classes:\n",
    "    pd.DataFrame\n",
    "    pd.Series"
   ]
  },
  {
   "cell_type": "markdown",
   "metadata": {},
   "source": [
    "**`DataFrame`** object `df` has 2 dimensions:\n",
    "\n",
    "+    rows indexed by `df.index`\n",
    "+    columns indexed by `df.columns`\n",
    "\n",
    "both belong to on of special classes `Index`, `Int64Index`, or `MultiIndex`\n",
    "\n",
    "index classes have properties `name` and `names` (which is useful for `MultiIndex`)\n",
    "\n",
    "sometimes it is useful to obtain index values as a list (`.tolist()`) or matrix (`.get_values()`)\n",
    "\n",
    "**`Series`** objects are one-dimensional (single column), and has only `.index` property, no `.columns`"
   ]
  },
  {
   "cell_type": "code",
   "execution_count": 7,
   "metadata": {
    "collapsed": false
   },
   "outputs": [
    {
     "data": {
      "text/plain": [
       "Index(['dataset', 'judgement', 'internal_id', 'stars', 'review'], dtype='object')"
      ]
     },
     "execution_count": 7,
     "metadata": {},
     "output_type": "execute_result"
    }
   ],
   "source": [
    "alldatadf.columns"
   ]
  },
  {
   "cell_type": "code",
   "execution_count": 8,
   "metadata": {
    "collapsed": false
   },
   "outputs": [
    {
     "data": {
      "text/plain": [
       "FrozenList(['id'])"
      ]
     },
     "execution_count": 8,
     "metadata": {},
     "output_type": "execute_result"
    }
   ],
   "source": [
    "alldatadf.index.names"
   ]
  },
  {
   "cell_type": "markdown",
   "metadata": {},
   "source": [
    "Each column (or row) of `pd.DataFrame` can be extracted as an object of `pd.Series` class\n",
    "\n",
    "Usually you will need to extract a column, unless your whole DataFrame columns are of the same type"
   ]
  },
  {
   "cell_type": "markdown",
   "metadata": {},
   "source": [
    "## Changing index\n",
    "\n",
    "You can pop-up index to a new column by calling\n",
    "\n",
    "    df.reset_index()\n",
    "    \n",
    "Or other way around, move regular columns to the index:\n",
    "\n",
    "    df.set_index(\"col_name\")\n",
    "    \n",
    "    df.set_index([\"col_name\"])\n",
    "    \n",
    "    df.set_index([\"col1\", \"col2\", \"col3\"])  # creates hierarchical MultiIndex"
   ]
  },
  {
   "cell_type": "code",
   "execution_count": 110,
   "metadata": {
    "collapsed": false
   },
   "outputs": [
    {
     "data": {
      "text/plain": [
       "['dataset', 'judgement', 'internal_id']"
      ]
     },
     "execution_count": 110,
     "metadata": {},
     "output_type": "execute_result"
    }
   ],
   "source": [
    "\"create multi-index reflecting initial folder structure\"\n",
    "[\"dataset\",\"judgement\",\"internal_id\"]"
   ]
  },
  {
   "cell_type": "markdown",
   "metadata": {},
   "source": [
    "## Subsetting columns\n",
    "\n",
    "call\n",
    "\n",
    "    df[\"col\"]\n",
    "    df.loc[:, \"col\"]\n",
    "    \n",
    "    df[[\"col\",\"col2\",\"col3\"]]\n",
    "    \n",
    "    df.iloc[:, :3]  # first three columns"
   ]
  },
  {
   "cell_type": "code",
   "execution_count": 111,
   "metadata": {
    "collapsed": false
   },
   "outputs": [
    {
     "data": {
      "text/plain": [
       "\"task: get 'review' columns as a Series \""
      ]
     },
     "execution_count": 111,
     "metadata": {},
     "output_type": "execute_result"
    }
   ],
   "source": [
    "\"task: get 'review' columns as a Series \"\n",
    "#review = "
   ]
  },
  {
   "cell_type": "markdown",
   "metadata": {},
   "source": [
    "## Subsetting rows\n",
    "\n",
    "might be confusing for DataFrame\n",
    "\n",
    "There are N ways to do it.\n",
    "\n",
    "First, using `df[]` is very ambigous.\n",
    "When used **with ranges**, such as `df[:4]`, `df[-5:]` it will subset first 4 or last 5 rows respectively. _Otherwise (with integers or strings) it will look for a column, not row!_, i.e. `df[4]` will look for column named `4`.\n",
    "\n",
    "If you need to get a row **by name**: use\n",
    "\n",
    "    df.loc[\"rowname\"]\n",
    "\n",
    "If you need to get a bunch of rows **by boolean mask**: use \n",
    "    \n",
    "    df.loc[mask]\n",
    "\n",
    "If you need to get a row **by ordinal number**: use \n",
    "\n",
    "    df.iloc[42]"
   ]
  },
  {
   "cell_type": "code",
   "execution_count": 112,
   "metadata": {
    "collapsed": false
   },
   "outputs": [
    {
     "data": {
      "text/plain": [
       "\"set hierarchical index (folder structure) \\nand take 'train' and 'pos' subsets \""
      ]
     },
     "execution_count": 112,
     "metadata": {},
     "output_type": "execute_result"
    }
   ],
   "source": [
    "\"\"\"set hierarchical index (folder structure) \n",
    "and take 'train' and 'pos' subsets \"\"\""
   ]
  },
  {
   "cell_type": "markdown",
   "metadata": {},
   "source": [
    "## Explore pandas functionality:\n",
    "\n",
    "### `pd.Series` only\n",
    "    .map\n",
    "    .sort_values()\n",
    "    .value_counts() # for categorical data\n",
    "    \n",
    "### `pd.DataFrame` only\n",
    "\n",
    "    .T    #  transpose\n",
    "    .apply()     # one operation to whole row(axis=1)  or column(axis=0)\n",
    "    .applymap()  # an operation to each cell\n",
    "    .groupby().agg()   # ... key(s)\n",
    "    .corr() # useful for all-numeric data frames\n",
    "\n",
    "## Generic\n",
    "\n",
    "these methods accept `axis=` argument for DataFrame\n",
    "    \n",
    "    .all()\n",
    "    .any()\n",
    "    \n",
    "    .hist()\n",
    "    .median()\n",
    "    .mean()  # <- do not run them on the full alldatadf data frame, as it contains text\n",
    "    .var()\n",
    "    .sum()"
   ]
  },
  {
   "cell_type": "code",
   "execution_count": null,
   "metadata": {
    "collapsed": true
   },
   "outputs": [],
   "source": [
    "# count values"
   ]
  },
  {
   "cell_type": "code",
   "execution_count": 113,
   "metadata": {
    "collapsed": false
   },
   "outputs": [],
   "source": [
    "# applymap(type)\n",
    "#.dtypes"
   ]
  },
  {
   "cell_type": "code",
   "execution_count": 114,
   "metadata": {
    "collapsed": false
   },
   "outputs": [
    {
     "data": {
      "text/plain": [
       "'[]DataFrame'"
      ]
     },
     "execution_count": 114,
     "metadata": {},
     "output_type": "execute_result"
    }
   ],
   "source": [
    "\"take a Series and a one-column DataFrame\"\n",
    "\"[] Series\"\n",
    "\"[[]] DataFrame\"\n",
    "\"type\""
   ]
  },
  {
   "cell_type": "code",
   "execution_count": 115,
   "metadata": {
    "collapsed": false
   },
   "outputs": [
    {
     "data": {
      "text/plain": [
       "'calculate review length, log-length'"
      ]
     },
     "execution_count": 115,
     "metadata": {},
     "output_type": "execute_result"
    }
   ],
   "source": [
    "\"calculate review length, log-length\""
   ]
  },
  {
   "cell_type": "code",
   "execution_count": 117,
   "metadata": {
    "collapsed": false
   },
   "outputs": [
    {
     "data": {
      "text/plain": [
       "'groupby and take mean and variance, summarize'"
      ]
     },
     "execution_count": 117,
     "metadata": {},
     "output_type": "execute_result"
    }
   ],
   "source": [
    "\"groupby and take mean and variance, summarize\""
   ]
  },
  {
   "cell_type": "code",
   "execution_count": 118,
   "metadata": {
    "collapsed": false
   },
   "outputs": [
    {
     "data": {
      "text/plain": [
       "'take mean of two last columns \\n\"review_len\",\"review_log_len\"\\n(it will freak out on text data if you ask it for the whole table)'"
      ]
     },
     "execution_count": 118,
     "metadata": {},
     "output_type": "execute_result"
    }
   ],
   "source": [
    "\"\"\"take mean of two last columns \n",
    "\"review_len\",\"review_log_len\"\n",
    "(it will freak out on text data if you ask it for the whole table)\"\"\""
   ]
  },
  {
   "cell_type": "code",
   "execution_count": 120,
   "metadata": {
    "collapsed": false
   },
   "outputs": [
    {
     "data": {
      "text/plain": [
       "'for an arbitrary function: .apply(fun)'"
      ]
     },
     "execution_count": 120,
     "metadata": {},
     "output_type": "execute_result"
    }
   ],
   "source": [
    "\"for an arbitrary function: .apply(fun)\""
   ]
  },
  {
   "cell_type": "code",
   "execution_count": 122,
   "metadata": {
    "collapsed": false
   },
   "outputs": [
    {
     "data": {
      "text/plain": [
       "'plot a histogram'"
      ]
     },
     "execution_count": 122,
     "metadata": {},
     "output_type": "execute_result"
    }
   ],
   "source": [
    "\"plot a histogram\"\n",
    "#    hist(by = [], figsize = (6,12),\n",
    "#         sharey=True, normed=True)"
   ]
  },
  {
   "cell_type": "markdown",
   "metadata": {},
   "source": [
    "## Iterating through a data frame\n",
    "\n",
    "data frames have property\n",
    "\n",
    "    df.iterrows() # for rows\n",
    "    \n",
    "and\n",
    "\n",
    "    df.items()    # for columns\n",
    "\n",
    "you probably will need the former more often. And don't forget about `.apply`"
   ]
  },
  {
   "cell_type": "markdown",
   "metadata": {},
   "source": [
    "# `sklearn`"
   ]
  },
  {
   "cell_type": "markdown",
   "metadata": {},
   "source": [
    "A things to remember if you have to leave right now:\n",
    "\n",
    " + most scikit-learn classes must have two methods:\n",
    "    \n",
    "    + `.fit()`\n",
    "    + `.predict()`\n",
    "    \n",
    " + instead of the latter, preprocessing tools often have:\n",
    "    + `.transform()`"
   ]
  },
  {
   "cell_type": "markdown",
   "metadata": {},
   "source": [
    "## Fit linear regression using `sklearn`"
   ]
  },
  {
   "cell_type": "code",
   "execution_count": 123,
   "metadata": {
    "collapsed": false
   },
   "outputs": [],
   "source": [
    "from sklearn import linear_model\n",
    "# linear_model.LinearRegression()\n",
    "# .score\n",
    "# .coef_"
   ]
  },
  {
   "cell_type": "code",
   "execution_count": 124,
   "metadata": {
    "collapsed": false
   },
   "outputs": [],
   "source": [
    "#plot a scatter plot with trend"
   ]
  },
  {
   "cell_type": "code",
   "execution_count": 125,
   "metadata": {
    "collapsed": false
   },
   "outputs": [
    {
     "data": {
      "text/plain": [
       "\"check which reviews contain 'good' and 'bad' and both\""
      ]
     },
     "execution_count": 125,
     "metadata": {},
     "output_type": "execute_result"
    }
   ],
   "source": [
    "\"check which reviews contain 'good' and 'bad' and both\""
   ]
  },
  {
   "cell_type": "code",
   "execution_count": 126,
   "metadata": {
    "collapsed": false
   },
   "outputs": [
    {
     "data": {
      "text/plain": [
       "'count number of stars in the data set'"
      ]
     },
     "execution_count": 126,
     "metadata": {},
     "output_type": "execute_result"
    }
   ],
   "source": [
    "\"count number of stars in the data set and plot a histogram; try excluding unsupervised subset\""
   ]
  },
  {
   "cell_type": "code",
   "execution_count": 127,
   "metadata": {
    "collapsed": false
   },
   "outputs": [
    {
     "data": {
      "text/plain": [
       "'count number of reviews in train/test  pos/neg using groupby'"
      ]
     },
     "execution_count": 127,
     "metadata": {},
     "output_type": "execute_result"
    }
   ],
   "source": [
    "\"count number of reviews in train/test  pos/neg using groupby\""
   ]
  },
  {
   "cell_type": "code",
   "execution_count": 128,
   "metadata": {
    "collapsed": false
   },
   "outputs": [
    {
     "data": {
      "text/plain": [
       "'calculate mean stars per subset'"
      ]
     },
     "execution_count": 128,
     "metadata": {},
     "output_type": "execute_result"
    }
   ],
   "source": [
    "\"calculate mean stars per subset (train/test, pos/neg)\"\n",
    "\"calculate mean stars per subset (train/test)\""
   ]
  },
  {
   "cell_type": "code",
   "execution_count": 35,
   "metadata": {
    "collapsed": false
   },
   "outputs": [],
   "source": [
    "\"remove unsupervised data points from the dataset completely\""
   ]
  },
  {
   "cell_type": "code",
   "execution_count": 129,
   "metadata": {
    "collapsed": false
   },
   "outputs": [
    {
     "data": {
      "text/plain": [
       "\"replace textual judgement label with a binary/boolean label: 'pos' -> True\""
      ]
     },
     "execution_count": 129,
     "metadata": {},
     "output_type": "execute_result"
    }
   ],
   "source": [
    "\"replace textual judgement label with a binary/boolean label: 'pos' -> True\""
   ]
  },
  {
   "cell_type": "code",
   "execution_count": 130,
   "metadata": {
    "collapsed": false
   },
   "outputs": [
    {
     "data": {
      "text/plain": [
       "'create a dataframe of train_data'"
      ]
     },
     "execution_count": 130,
     "metadata": {},
     "output_type": "execute_result"
    }
   ],
   "source": [
    "\"create a dataframe of train_data\""
   ]
  },
  {
   "cell_type": "markdown",
   "metadata": {},
   "source": [
    "## Run simple analysis with `sklearn`"
   ]
  },
  {
   "cell_type": "code",
   "execution_count": 131,
   "metadata": {
    "collapsed": false
   },
   "outputs": [],
   "source": [
    "from sklearn.naive_bayes import MultinomialNB\n",
    "from sklearn.pipeline import Pipeline\n",
    "from sklearn.cross_validation import KFold\n",
    "from sklearn.feature_extraction.text import CountVectorizer, TfidfVectorizer\n",
    "# from nltk.tokenize import TreebankWordTokenizer\n",
    "from sklearn.utils import shuffle\n",
    "\n",
    "ngram_size = 3\n",
    "vectorizer = TfidfVectorizer(ngram_range=(1, ngram_size), min_df = .1, stop_words='english')\n",
    "# tokenizer=TreebankWordTokenizer().tokenize)\n",
    "\n",
    "classifier_pipeline = Pipeline([\n",
    "    ('count_vectorizer',   vectorizer),\n",
    "    ('classifier',         MultinomialNB()),\n",
    "])"
   ]
  },
  {
   "cell_type": "markdown",
   "metadata": {},
   "source": [
    "**visualize ngram matrix**"
   ]
  },
  {
   "cell_type": "code",
   "execution_count": 39,
   "metadata": {
    "collapsed": false
   },
   "outputs": [
    {
     "data": {
      "image/png": "[encoded data removed]",
      "text/plain": [
       "<matplotlib.figure.Figure at 0x10dc1b2b0>"
      ]
     },
     "metadata": {},
     "output_type": "display_data"
    }
   ],
   "source": [
    "ngrams = vectorizer.fit_transform(train_data[:50].review.as_matrix())\n",
    "plt.pcolor(np.asarray(ngrams.todense()))\n",
    "pass"
   ]
  },
  {
   "cell_type": "code",
   "execution_count": 132,
   "metadata": {
    "collapsed": false
   },
   "outputs": [
    {
     "data": {
      "text/plain": [
       "'shuffle and subset the data'"
      ]
     },
     "execution_count": 132,
     "metadata": {},
     "output_type": "execute_result"
    }
   ],
   "source": [
    "\"shuffle and subset the data\""
   ]
  },
  {
   "cell_type": "markdown",
   "metadata": {},
   "source": [
    "## Estimate performance of the classifier model"
   ]
  },
  {
   "cell_type": "code",
   "execution_count": 134,
   "metadata": {
    "collapsed": false
   },
   "outputs": [
    {
     "data": {
      "text/plain": [
       "<function sklearn.cross_validation.cross_val_score>"
      ]
     },
     "execution_count": 134,
     "metadata": {},
     "output_type": "execute_result"
    }
   ],
   "source": [
    "from sklearn import cross_validation\n",
    "cross_validation.cross_val_score\n",
    "# scoring=\"roc_auc\"\n",
    "# scoring=\"accuracy\""
   ]
  },
  {
   "cell_type": "markdown",
   "metadata": {},
   "source": [
    "## Fit model on the whole data set and inspect the weights"
   ]
  },
  {
   "cell_type": "markdown",
   "metadata": {},
   "source": [
    "## confusion matrix"
   ]
  },
  {
   "cell_type": "code",
   "execution_count": 138,
   "metadata": {
    "collapsed": false
   },
   "outputs": [],
   "source": [
    "# from sklearn import metrics\n",
    "# labels = [True, False]\n",
    "# yhat = classifier_pipeline.predict(X)\n",
    "# confmatr = pd.DataFrame(\n",
    "#     metrics.confusion_matrix(yhat, y, labels=labels),\n",
    "#     index = labels,\n",
    "#     columns = labels\n",
    "#     )\n",
    "# confmatr.index.name = \"predicted\"\n",
    "# confmatr.columns.name = \"observed\"\n",
    "# confmatr"
   ]
  },
  {
   "cell_type": "code",
   "execution_count": 140,
   "metadata": {
    "collapsed": false
   },
   "outputs": [
    {
     "data": {
      "text/plain": [
       "'calculate confusion matrix manually'"
      ]
     },
     "execution_count": 140,
     "metadata": {},
     "output_type": "execute_result"
    }
   ],
   "source": [
    "\"calculate confusion matrix manually\"\n",
    "# confmatr = pd.DataFrame({\"yhat\":yhat, \n",
    "#                          \"y\": y,\n",
    "#                          \"count\":1}).groupby([\"y\", \"yhat\"]).agg(sum)\n",
    "# confmatr"
   ]
  },
  {
   "cell_type": "code",
   "execution_count": 137,
   "metadata": {
    "collapsed": false
   },
   "outputs": [
    {
     "data": {
      "text/plain": [
       "'try out `pd.pivot_table`'"
      ]
     },
     "execution_count": 137,
     "metadata": {},
     "output_type": "execute_result"
    }
   ],
   "source": [
    "\"try out `pd.pivot_table`\""
   ]
  },
  {
   "cell_type": "code",
   "execution_count": 141,
   "metadata": {
    "collapsed": false
   },
   "outputs": [
    {
     "data": {
      "text/plain": [
       "'pull out the steps of the pipeline'"
      ]
     },
     "execution_count": 141,
     "metadata": {},
     "output_type": "execute_result"
    }
   ],
   "source": [
    "\"pull out the steps of the pipeline\"\n",
    "# cntv = classifier_pipeline.get_params()[\"count_vectorizer\"]\n",
    "# cl = classifier_pipeline.get_params()[\"classifier\"]\n",
    "# model_analysis = pd.DataFrame({\"coef\": cl.coef_[0]}, index=cntv.get_feature_names()) \n",
    "# model_analysis[-5:]"
   ]
  },
  {
   "cell_type": "code",
   "execution_count": 142,
   "metadata": {
    "collapsed": false
   },
   "outputs": [],
   "source": [
    "# model_analysis[\"voc\"] =  [cntv.vocabulary_[kk] for kk in model_analysis.index.tolist()]\n",
    "\n",
    "# ntop = 10\n",
    "# pd.DataFrame({\n",
    "#             \"negative\": model_analysis[\"coef\"].sort_values()[:ntop].index,\n",
    "#             \"positive\": model_analysis[\"coef\"].sort_values()[-ntop:].index\n",
    "#              })"
   ]
  },
  {
   "cell_type": "markdown",
   "metadata": {},
   "source": [
    "## Fit an elastic net regression model"
   ]
  },
  {
   "cell_type": "markdown",
   "metadata": {},
   "source": [
    "$$\n",
    "\\mathrm{loss} = (y - b \\cdot x)^2\n",
    "$$\n",
    "\n",
    "\n",
    "$$\n",
    "\\mathrm{loss} = (y - b_j \\cdot x_j)^2 + \\alpha_2 \\sum  b_j^2 + \\alpha_1 |\\sum b_j|\n",
    "$$"
   ]
  },
  {
   "cell_type": "code",
   "execution_count": 76,
   "metadata": {
    "collapsed": true
   },
   "outputs": [],
   "source": [
    "from sklearn.linear_model import ElasticNetCV"
   ]
  },
  {
   "cell_type": "code",
   "execution_count": 143,
   "metadata": {
    "collapsed": false
   },
   "outputs": [
    {
     "data": {
      "text/plain": [
       "'build a pipeline'"
      ]
     },
     "execution_count": 143,
     "metadata": {},
     "output_type": "execute_result"
    }
   ],
   "source": [
    "\"build a pipeline\""
   ]
  },
  {
   "cell_type": "code",
   "execution_count": 62,
   "metadata": {
    "collapsed": true
   },
   "outputs": [],
   "source": [
    "\"fit; get predicted values\"\n",
    "\"plot observed ~ predicted\""
   ]
  },
  {
   "cell_type": "code",
   "execution_count": 145,
   "metadata": {
    "collapsed": false,
    "scrolled": true
   },
   "outputs": [
    {
     "data": {
      "text/plain": [
       "'calculate cross-validation R^2'"
      ]
     },
     "execution_count": 145,
     "metadata": {},
     "output_type": "execute_result"
    }
   ],
   "source": [
    "\"calculate cross-validation R^2\""
   ]
  },
  {
   "cell_type": "markdown",
   "metadata": {},
   "source": [
    "## Fit a bunch of classifiers and compare their performance\n",
    "adapted from http://scikit-learn.org/stable/auto_examples/text/document_classification_20newsgroups.html"
   ]
  },
  {
   "cell_type": "code",
   "execution_count": 103,
   "metadata": {
    "collapsed": false
   },
   "outputs": [],
   "source": [
    "# split into a training set and a test set\n",
    "num_points = 1000\n",
    "\n",
    "xraw_train, y_train = shuffle( alldatadf.set_index(\"dataset\").loc[\"train\"][\"review\"],\n",
    "                              alldatadf.set_index(\"dataset\").loc[\"train\"][\"positive_judgement\"])\n",
    "xraw_train = xraw_train[:num_points]\n",
    "y_train = y_train[:num_points]\n",
    "\n",
    "y_train = alldatadf.set_index(\"dataset\").loc[\"train\"][\"positive_judgement\"]\n",
    "y_test = alldatadf.set_index(\"dataset\").loc[\"test\"][\"positive_judgement\"]\n",
    "\n",
    "xraw_train = alldatadf.set_index(\"dataset\").loc[\"train\"][\"review\"]\n",
    "xraw_test = alldatadf.set_index(\"dataset\").loc[\"test\"][\"review\"]"
   ]
  },
  {
   "cell_type": "code",
   "execution_count": 105,
   "metadata": {
    "collapsed": false
   },
   "outputs": [
    {
     "name": "stdout",
     "output_type": "stream",
     "text": [
      "Extracting features from the training data using a sparse vectorizer\n",
      "n_samples: 25000, n_features: 74536\n",
      "\n",
      "Extracting features from the test data using the same vectorizer\n",
      "done in 4.751129s at 7.034MB/s\n",
      "n_samples: 25000, n_features: 74536\n",
      "\n",
      "Extracting 20 best features by a chi-squared test\n",
      "done in 0.096809s\n",
      "\n",
      "================================================================================\n",
      "Ridge Classifier\n",
      "________________________________________________________________________________\n",
      "Training: \n",
      "RidgeClassifier(alpha=1.0, class_weight=None, copy_X=True, fit_intercept=True,\n",
      "        max_iter=None, normalize=False, random_state=None, solver='lsqr',\n",
      "        tol=0.01)\n",
      "train time: 0.034s\n",
      "test time:  0.001s\n",
      "accuracy:   0.763\n",
      "dimensionality: 20\n",
      "density: 1.000000\n",
      "\n",
      "classification report:\n",
      "             precision    recall  f1-score   support\n",
      "\n",
      "      False       0.82      0.67      0.74     12500\n",
      "       True       0.72      0.86      0.78     12500\n",
      "\n",
      "avg / total       0.77      0.76      0.76     25000\n",
      "\n",
      "confusion matrix:\n",
      "[[ 8361  4139]\n",
      " [ 1785 10715]]\n",
      "\n",
      "================================================================================\n",
      "Perceptron\n",
      "________________________________________________________________________________\n",
      "Training: \n",
      "Perceptron(alpha=0.0001, class_weight=None, eta0=1.0, fit_intercept=True,\n",
      "      n_iter=50, n_jobs=1, penalty=None, random_state=0, shuffle=True,\n",
      "      verbose=0, warm_start=False)\n"
     ]
    },
    {
     "name": "stderr",
     "output_type": "stream",
     "text": [
      "/Users/dlituiev/repos/scikit-learn/sklearn/linear_model/ridge.py:306: UserWarning: In Ridge, only 'sag' solver can currently fit the intercept when X is sparse. Solver has been automatically changed into 'sag'.\n",
      "  warnings.warn(\"In Ridge, only 'sag' solver can currently fit the \"\n"
     ]
    },
    {
     "name": "stdout",
     "output_type": "stream",
     "text": [
      "train time: 0.086s\n",
      "test time:  0.001s\n",
      "accuracy:   0.730\n",
      "dimensionality: 20\n",
      "density: 1.000000\n",
      "\n",
      "classification report:\n",
      "             precision    recall  f1-score   support\n",
      "\n",
      "      False       0.87      0.54      0.67     12500\n",
      "       True       0.67      0.92      0.77     12500\n",
      "\n",
      "avg / total       0.77      0.73      0.72     25000\n",
      "\n",
      "confusion matrix:\n",
      "[[ 6742  5758]\n",
      " [  996 11504]]\n",
      "\n",
      "================================================================================\n",
      "Passive-Aggressive\n",
      "________________________________________________________________________________\n",
      "Training: \n",
      "PassiveAggressiveClassifier(C=1.0, class_weight=None, fit_intercept=True,\n",
      "              loss='hinge', n_iter=50, n_jobs=1, random_state=None,\n",
      "              shuffle=True, verbose=0, warm_start=False)\n",
      "train time: 0.081s\n",
      "test time:  0.001s\n",
      "accuracy:   0.765\n",
      "dimensionality: 20\n",
      "density: 1.000000\n",
      "\n",
      "classification report:\n",
      "             precision    recall  f1-score   support\n",
      "\n",
      "      False       0.81      0.70      0.75     12500\n",
      "       True       0.73      0.83      0.78     12500\n",
      "\n",
      "avg / total       0.77      0.77      0.76     25000\n",
      "\n",
      "confusion matrix:\n",
      "[[ 8757  3743]\n",
      " [ 2121 10379]]\n",
      "\n",
      "================================================================================\n",
      "kNN\n",
      "________________________________________________________________________________\n",
      "Training: \n",
      "KNeighborsClassifier(algorithm='auto', leaf_size=30, metric='minkowski',\n",
      "           metric_params=None, n_jobs=1, n_neighbors=10, p=2,\n",
      "           weights='uniform')\n",
      "train time: 0.002s\n",
      "test time:  86.976s\n",
      "accuracy:   0.756\n",
      "classification report:\n",
      "             precision    recall  f1-score   support\n",
      "\n",
      "      False       0.79      0.69      0.74     12500\n",
      "       True       0.73      0.82      0.77     12500\n",
      "\n",
      "avg / total       0.76      0.76      0.76     25000\n",
      "\n",
      "confusion matrix:\n",
      "[[ 8645  3855]\n",
      " [ 2235 10265]]\n",
      "\n",
      "================================================================================\n",
      "Random forest\n",
      "________________________________________________________________________________\n",
      "Training: \n",
      "RandomForestClassifier(bootstrap=True, class_weight=None, criterion='gini',\n",
      "            max_depth=None, max_features='auto', max_leaf_nodes=None,\n",
      "            min_samples_leaf=1, min_samples_split=2,\n",
      "            min_weight_fraction_leaf=0.0, n_estimators=100, n_jobs=1,\n",
      "            oob_score=False, random_state=None, verbose=0,\n",
      "            warm_start=False)\n",
      "train time: 10.335s\n",
      "test time:  0.738s\n",
      "accuracy:   0.725\n",
      "classification report:\n",
      "             precision    recall  f1-score   support\n",
      "\n",
      "      False       0.77      0.64      0.70     12500\n",
      "       True       0.69      0.81      0.75     12500\n",
      "\n",
      "avg / total       0.73      0.73      0.72     25000\n",
      "\n",
      "confusion matrix:\n",
      "[[ 8034  4466]\n",
      " [ 2407 10093]]\n",
      "\n",
      "================================================================================\n",
      "L2 penalty\n",
      "________________________________________________________________________________\n",
      "Training: \n",
      "LinearSVC(C=1.0, class_weight=None, dual=False, fit_intercept=True,\n",
      "     intercept_scaling=1, loss='l2', max_iter=1000, multi_class='ovr',\n",
      "     penalty='l2', random_state=None, tol=0.001, verbose=0)\n"
     ]
    },
    {
     "name": "stderr",
     "output_type": "stream",
     "text": [
      "/Users/dlituiev/repos/scikit-learn/sklearn/svm/classes.py:197: DeprecationWarning: loss='l2' has been deprecated in favor of loss='squared_hinge' as of 0.16. Backward compatibility for the loss='l2' will be removed in 1.0\n",
      "  DeprecationWarning)\n"
     ]
    },
    {
     "name": "stdout",
     "output_type": "stream",
     "text": [
      "train time: 0.181s\n",
      "test time:  0.001s\n",
      "accuracy:   0.765\n",
      "dimensionality: 20\n",
      "density: 1.000000\n",
      "\n",
      "classification report:\n",
      "             precision    recall  f1-score   support\n",
      "\n",
      "      False       0.82      0.68      0.74     12500\n",
      "       True       0.73      0.85      0.78     12500\n",
      "\n",
      "avg / total       0.77      0.76      0.76     25000\n",
      "\n",
      "confusion matrix:\n",
      "[[ 8478  4022]\n",
      " [ 1864 10636]]\n",
      "\n",
      "________________________________________________________________________________\n",
      "Training: \n",
      "SGDClassifier(alpha=0.0001, average=False, class_weight=None, epsilon=0.1,\n",
      "       eta0=0.0, fit_intercept=True, l1_ratio=0.15,\n",
      "       learning_rate='optimal', loss='hinge', n_iter=50, n_jobs=1,\n",
      "       penalty='l2', power_t=0.5, random_state=None, shuffle=True,\n",
      "       verbose=0, warm_start=False)\n",
      "train time: 0.140s\n",
      "test time:  0.000s\n",
      "accuracy:   0.741\n",
      "dimensionality: 20\n",
      "density: 1.000000\n",
      "\n",
      "classification report:\n",
      "             precision    recall  f1-score   support\n",
      "\n",
      "      False       0.87      0.57      0.69     12500\n",
      "       True       0.68      0.92      0.78     12500\n",
      "\n",
      "avg / total       0.77      0.74      0.73     25000\n",
      "\n",
      "confusion matrix:\n",
      "[[ 7076  5424]\n",
      " [ 1055 11445]]\n",
      "\n",
      "================================================================================\n",
      "L1 penalty\n",
      "________________________________________________________________________________\n",
      "Training: \n",
      "LinearSVC(C=1.0, class_weight=None, dual=False, fit_intercept=True,\n",
      "     intercept_scaling=1, loss='l2', max_iter=1000, multi_class='ovr',\n",
      "     penalty='l1', random_state=None, tol=0.001, verbose=0)\n",
      "train time: 0.014s\n",
      "test time:  0.001s\n",
      "accuracy:   0.764\n",
      "dimensionality: 20\n",
      "density: 1.000000\n",
      "\n",
      "classification report:\n",
      "             precision    recall  f1-score   support\n",
      "\n",
      "      False       0.82      0.68      0.74     12500\n",
      "       True       0.73      0.85      0.78     12500\n",
      "\n",
      "avg / total       0.77      0.76      0.76     25000\n",
      "\n",
      "confusion matrix:\n",
      "[[ 8487  4013]\n",
      " [ 1875 10625]]\n",
      "\n",
      "________________________________________________________________________________\n",
      "Training: \n",
      "SGDClassifier(alpha=0.0001, average=False, class_weight=None, epsilon=0.1,\n",
      "       eta0=0.0, fit_intercept=True, l1_ratio=0.15,\n",
      "       learning_rate='optimal', loss='hinge', n_iter=50, n_jobs=1,\n",
      "       penalty='l1', power_t=0.5, random_state=None, shuffle=True,\n",
      "       verbose=0, warm_start=False)\n",
      "train time: 0.098s\n",
      "test time:  0.000s\n",
      "accuracy:   0.758\n",
      "dimensionality: 20\n",
      "density: 1.000000\n",
      "\n",
      "classification report:\n",
      "             precision    recall  f1-score   support\n",
      "\n",
      "      False       0.84      0.64      0.72     12500\n",
      "       True       0.71      0.88      0.78     12500\n",
      "\n",
      "avg / total       0.77      0.76      0.75     25000\n",
      "\n",
      "confusion matrix:\n",
      "[[ 7990  4510]\n",
      " [ 1552 10948]]\n",
      "\n",
      "================================================================================\n",
      "Elastic-Net penalty\n",
      "________________________________________________________________________________\n",
      "Training: \n",
      "SGDClassifier(alpha=0.0001, average=False, class_weight=None, epsilon=0.1,\n",
      "       eta0=0.0, fit_intercept=True, l1_ratio=0.15,\n",
      "       learning_rate='optimal', loss='hinge', n_iter=50, n_jobs=1,\n",
      "       penalty='elasticnet', power_t=0.5, random_state=None, shuffle=True,\n",
      "       verbose=0, warm_start=False)\n"
     ]
    },
    {
     "name": "stderr",
     "output_type": "stream",
     "text": [
      "/Users/dlituiev/repos/scikit-learn/sklearn/svm/classes.py:197: DeprecationWarning: loss='l2' has been deprecated in favor of loss='squared_hinge' as of 0.16. Backward compatibility for the loss='l2' will be removed in 1.0\n",
      "  DeprecationWarning)\n"
     ]
    },
    {
     "name": "stdout",
     "output_type": "stream",
     "text": [
      "train time: 0.101s\n",
      "test time:  0.001s\n",
      "accuracy:   0.742\n",
      "dimensionality: 20\n",
      "density: 1.000000\n",
      "\n",
      "classification report:\n",
      "             precision    recall  f1-score   support\n",
      "\n",
      "      False       0.87      0.57      0.69     12500\n",
      "       True       0.68      0.91      0.78     12500\n",
      "\n",
      "avg / total       0.77      0.74      0.73     25000\n",
      "\n",
      "confusion matrix:\n",
      "[[ 7158  5342]\n",
      " [ 1110 11390]]\n",
      "\n",
      "================================================================================\n",
      "NearestCentroid (aka Rocchio classifier)\n",
      "________________________________________________________________________________\n",
      "Training: \n",
      "NearestCentroid(metric='euclidean', shrink_threshold=None)\n",
      "train time: 0.008s\n",
      "test time:  0.004s\n",
      "accuracy:   0.753\n",
      "classification report:\n",
      "             precision    recall  f1-score   support\n",
      "\n",
      "      False       0.83      0.63      0.72     12500\n",
      "       True       0.70      0.87      0.78     12500\n",
      "\n",
      "avg / total       0.77      0.75      0.75     25000\n",
      "\n",
      "confusion matrix:\n",
      "[[ 7931  4569]\n",
      " [ 1598 10902]]\n",
      "\n",
      "================================================================================\n",
      "Naive Bayes\n",
      "________________________________________________________________________________\n",
      "Training: \n",
      "MultinomialNB(alpha=0.01, class_prior=None, fit_prior=True)\n",
      "train time: 0.005s\n",
      "test time:  0.001s\n",
      "accuracy:   0.673\n",
      "dimensionality: 20\n",
      "density: 1.000000\n",
      "\n",
      "classification report:\n",
      "             precision    recall  f1-score   support\n",
      "\n",
      "      False       0.62      0.89      0.73     12500\n",
      "       True       0.80      0.46      0.58     12500\n",
      "\n",
      "avg / total       0.71      0.67      0.66     25000\n",
      "\n",
      "confusion matrix:\n",
      "[[11065  1435]\n",
      " [ 6741  5759]]\n",
      "\n",
      "________________________________________________________________________________\n",
      "Training: \n",
      "BernoulliNB(alpha=0.01, binarize=0.0, class_prior=None, fit_prior=True)\n",
      "train time: 0.005s\n",
      "test time:  0.001s\n",
      "accuracy:   0.762\n",
      "dimensionality: 20\n",
      "density: 1.000000\n",
      "\n",
      "classification report:\n",
      "             precision    recall  f1-score   support\n",
      "\n",
      "      False       0.80      0.70      0.75     12500\n",
      "       True       0.73      0.83      0.78     12500\n",
      "\n",
      "avg / total       0.77      0.76      0.76     25000\n",
      "\n",
      "confusion matrix:\n",
      "[[ 8706  3794]\n",
      " [ 2163 10337]]\n",
      "\n",
      "================================================================================\n",
      "LinearSVC with L1-based feature selection\n",
      "________________________________________________________________________________\n",
      "Training: \n",
      "Pipeline(steps=[('feature_selection', LinearSVC(C=1.0, class_weight=None, dual=False, fit_intercept=True,\n",
      "     intercept_scaling=1, loss='squared_hinge', max_iter=1000,\n",
      "     multi_class='ovr', penalty='l1', random_state=None, tol=0.001,\n",
      "     verbose=0)), ('classification', LinearSVC(C=1.0, class_weight=None, dual=True, fit_intercept=True,\n",
      "     intercept_scaling=1, loss='squared_hinge', max_iter=1000,\n",
      "     multi_class='ovr', penalty='l2', random_state=None, tol=0.0001,\n",
      "     verbose=0))])\n"
     ]
    },
    {
     "name": "stderr",
     "output_type": "stream",
     "text": [
      "/Users/dlituiev/repos/scikit-learn/sklearn/utils/deprecation.py:70: DeprecationWarning: Function transform is deprecated; Support to use estimators as feature selectors will be removed in version 0.19. Use SelectFromModel instead.\n",
      "  warnings.warn(msg, category=DeprecationWarning)\n",
      "/Users/dlituiev/repos/scikit-learn/sklearn/utils/deprecation.py:70: DeprecationWarning: Function transform is deprecated; Support to use estimators as feature selectors will be removed in version 0.19. Use SelectFromModel instead.\n",
      "  warnings.warn(msg, category=DeprecationWarning)\n"
     ]
    },
    {
     "name": "stdout",
     "output_type": "stream",
     "text": [
      "train time: 0.089s\n",
      "test time:  0.004s\n",
      "accuracy:   0.765\n",
      "classification report:\n",
      "             precision    recall  f1-score   support\n",
      "\n",
      "      False       0.82      0.68      0.74     12500\n",
      "       True       0.73      0.85      0.78     12500\n",
      "\n",
      "avg / total       0.77      0.76      0.76     25000\n",
      "\n",
      "confusion matrix:\n",
      "[[ 8478  4022]\n",
      " [ 1864 10636]]\n",
      "\n"
     ]
    },
    {
     "data": {
      "image/png": "[encoded data removed]",
      "text/plain": [
       "<matplotlib.figure.Figure at 0x10f56c470>"
      ]
     },
     "metadata": {},
     "output_type": "display_data"
    }
   ],
   "source": [
    "from sklearn.feature_selection import SelectKBest, chi2\n",
    "from sklearn.linear_model import RidgeClassifier\n",
    "from sklearn.pipeline import Pipeline\n",
    "from sklearn.svm import LinearSVC\n",
    "from sklearn.linear_model import SGDClassifier\n",
    "from sklearn.linear_model import Perceptron\n",
    "from sklearn.linear_model import PassiveAggressiveClassifier\n",
    "from sklearn.naive_bayes import BernoulliNB, MultinomialNB\n",
    "from sklearn.neighbors import KNeighborsClassifier\n",
    "from sklearn.neighbors import NearestCentroid\n",
    "from sklearn.ensemble import RandomForestClassifier\n",
    "from sklearn.utils.extmath import density\n",
    "from sklearn import metrics\n",
    "\n",
    "\n",
    "categories = [True, False]\n",
    "def size_mb(docs):\n",
    "    return sum(len(s.encode('utf-8')) for s in docs) / 1e6\n",
    "\n",
    "data_train_size_mb = size_mb(xraw_train)\n",
    "data_test_size_mb = size_mb(xraw_test)\n",
    "\n",
    "from time import time\n",
    "print(\"Extracting features from the training data using a sparse vectorizer\")\n",
    "t0 = time()\n",
    "use_hashing=False\n",
    "n_features = 2 ** 16\n",
    "select_chi2 = 20\n",
    "print_top10 = False\n",
    "print_report = True\n",
    "print_cm = True\n",
    "if use_hashing:\n",
    "    vectorizer = HashingVectorizer(stop_words='english', non_negative=True,\n",
    "                                   n_features=n_features)\n",
    "else:\n",
    "    vectorizer = TfidfVectorizer(sublinear_tf=True, max_df=0.5,\n",
    "                                 stop_words='english')\n",
    "    \n",
    "X_train = vectorizer.fit_transform(xraw_train)\n",
    "duration = time() - t0\n",
    "# print(\"done in %fs at %0.3fMB/s\" % (duration, data_train_size_mb / duration))\n",
    "print(\"n_samples: %d, n_features: %d\" % X_train.shape)\n",
    "print()\n",
    "\n",
    "print(\"Extracting features from the test data using the same vectorizer\")\n",
    "t0 = time()\n",
    "X_test = vectorizer.transform(xraw_test)\n",
    "duration = time() - t0\n",
    "print(\"done in %fs at %0.3fMB/s\" % (duration, data_test_size_mb / duration))\n",
    "print(\"n_samples: %d, n_features: %d\" % X_test.shape)\n",
    "print()\n",
    "\n",
    "# mapping from integer feature name to original token string\n",
    "if use_hashing:\n",
    "    feature_names = None\n",
    "else:\n",
    "    feature_names = vectorizer.get_feature_names()\n",
    "\n",
    "if select_chi2:\n",
    "    print(\"Extracting %d best features by a chi-squared test\" %\n",
    "          select_chi2)\n",
    "    t0 = time()\n",
    "    ch2 = SelectKBest(chi2, k=select_chi2)\n",
    "    X_train = ch2.fit_transform(X_train, y_train)\n",
    "    X_test = ch2.transform(X_test)\n",
    "    if feature_names:\n",
    "        # keep selected feature names\n",
    "        feature_names = [feature_names[i] for i\n",
    "                         in ch2.get_support(indices=True)]\n",
    "    print(\"done in %fs\" % (time() - t0))\n",
    "    print()\n",
    "\n",
    "if feature_names:\n",
    "    feature_names = np.asarray(feature_names)\n",
    "\n",
    "\n",
    "def trim(s):\n",
    "    \"\"\"Trim string to fit on terminal (assuming 80-column display)\"\"\"\n",
    "    return s if len(s) <= 80 else s[:77] + \"...\"\n",
    "\n",
    "\n",
    "###############################################################################\n",
    "# Benchmark classifiers\n",
    "def benchmark(clf):\n",
    "    print('_' * 80)\n",
    "    print(\"Training: \")\n",
    "    print(clf)\n",
    "    t0 = time()\n",
    "    clf.fit(X_train, y_train)\n",
    "    train_time = time() - t0\n",
    "    print(\"train time: %0.3fs\" % train_time)\n",
    "\n",
    "    t0 = time()\n",
    "    pred = clf.predict(X_test)\n",
    "    test_time = time() - t0\n",
    "    print(\"test time:  %0.3fs\" % test_time)\n",
    "\n",
    "    score = metrics.accuracy_score(y_test, pred)\n",
    "    print(\"accuracy:   %0.3f\" % score)\n",
    "\n",
    "    if hasattr(clf, 'coef_'):\n",
    "        print(\"dimensionality: %d\" % clf.coef_.shape[1])\n",
    "        print(\"density: %f\" % density(clf.coef_))\n",
    "\n",
    "        if print_top10 and feature_names is not None:\n",
    "            print(\"top 10 keywords per class:\")\n",
    "            for i, category in enumerate(clf.classes_):\n",
    "                top10 = np.argsort(clf.coef_[i])[-10:]\n",
    "                print(trim(\"%s: %s\"\n",
    "                      % (category, \" \".join(feature_names[top10]))))\n",
    "        print()\n",
    "\n",
    "    if print_report:\n",
    "        print(\"classification report:\")\n",
    "        print(metrics.classification_report(y_test, pred,\n",
    "                                            target_names=[\"%s\" % x for x in clf.classes_]))\n",
    "\n",
    "    if print_cm:\n",
    "        print(\"confusion matrix:\")\n",
    "        print(metrics.confusion_matrix(y_test, pred))\n",
    "\n",
    "    print()\n",
    "    clf_descr = str(clf).split('(')[0]\n",
    "    return clf_descr, score, train_time, test_time\n",
    "\n",
    "\n",
    "results = []\n",
    "for clf, name in (\n",
    "        (RidgeClassifier(tol=1e-2, solver=\"lsqr\"), \"Ridge Classifier\"),\n",
    "        (Perceptron(n_iter=50), \"Perceptron\"),\n",
    "        (PassiveAggressiveClassifier(n_iter=50), \"Passive-Aggressive\"),\n",
    "        (KNeighborsClassifier(n_neighbors=10), \"kNN\"),\n",
    "        (RandomForestClassifier(n_estimators=100), \"Random forest\")):\n",
    "    print('=' * 80)\n",
    "    print(name)\n",
    "    results.append(benchmark(clf))\n",
    "\n",
    "for penalty in [\"l2\", \"l1\"]:\n",
    "    print('=' * 80)\n",
    "    print(\"%s penalty\" % penalty.upper())\n",
    "    # Train Liblinear model\n",
    "    results.append(benchmark(LinearSVC(loss='l2', penalty=penalty,\n",
    "                                            dual=False, tol=1e-3)))\n",
    "\n",
    "    # Train SGD model\n",
    "    results.append(benchmark(SGDClassifier(alpha=.0001, n_iter=50,\n",
    "                                           penalty=penalty)))\n",
    "\n",
    "# Train SGD with Elastic Net penalty\n",
    "print('=' * 80)\n",
    "print(\"Elastic-Net penalty\")\n",
    "results.append(benchmark(SGDClassifier(alpha=.0001, n_iter=50,\n",
    "                                       penalty=\"elasticnet\")))\n",
    "\n",
    "# Train NearestCentroid without threshold\n",
    "print('=' * 80)\n",
    "print(\"NearestCentroid (aka Rocchio classifier)\")\n",
    "results.append(benchmark(NearestCentroid()))\n",
    "\n",
    "# Train sparse Naive Bayes classifiers\n",
    "print('=' * 80)\n",
    "print(\"Naive Bayes\")\n",
    "results.append(benchmark(MultinomialNB(alpha=.01)))\n",
    "results.append(benchmark(BernoulliNB(alpha=.01)))\n",
    "\n",
    "print('=' * 80)\n",
    "print(\"LinearSVC with L1-based feature selection\")\n",
    "# The smaller C, the stronger the regularization.\n",
    "# The more regularization, the more sparsity.\n",
    "results.append(benchmark(Pipeline([\n",
    "  ('feature_selection', LinearSVC(penalty=\"l1\", dual=False, tol=1e-3)),\n",
    "  ('classification', LinearSVC())\n",
    "])))\n",
    "\n",
    "# make some plots\n",
    "\n",
    "indices = np.arange(len(results))\n",
    "\n",
    "results = [[x[i] for x in results] for i in range(4)]\n",
    "\n",
    "clf_names, score, training_time, test_time = results\n",
    "training_time = np.array(training_time) / np.max(training_time)\n",
    "test_time = np.array(test_time) / np.max(test_time)\n",
    "\n",
    "plt.figure(figsize=(12, 8))\n",
    "plt.title(\"Score\")\n",
    "plt.barh(indices, score, .2, label=\"score\", color='r')\n",
    "plt.barh(indices + .3, training_time, .2, label=\"training time\", color='g')\n",
    "plt.barh(indices + .6, test_time, .2, label=\"test time\", color='b')\n",
    "plt.yticks(())\n",
    "plt.legend(loc='best')\n",
    "plt.subplots_adjust(left=.25)\n",
    "plt.subplots_adjust(top=.95)\n",
    "plt.subplots_adjust(bottom=.05)\n",
    "\n",
    "for i, c in zip(indices, clf_names):\n",
    "    plt.text(-.3, i, c)\n",
    "\n",
    "plt.show()"
   ]
  }
 ],
 "metadata": {
  "kernelspec": {
   "display_name": "Python 3",
   "language": "python",
   "name": "python3"
  },
  "language_info": {
   "codemirror_mode": {
    "name": "ipython",
    "version": 3
   },
   "file_extension": ".py",
   "mimetype": "text/x-python",
   "name": "python",
   "nbconvert_exporter": "python",
   "pygments_lexer": "ipython3",
   "version": "3.5.1"
  }
 },
 "nbformat": 4,
 "nbformat_minor": 0
}
